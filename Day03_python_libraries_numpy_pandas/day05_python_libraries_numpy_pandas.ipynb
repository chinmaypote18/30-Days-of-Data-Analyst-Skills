{
  "nbformat": 4,
  "nbformat_minor": 0,
  "metadata": {
    "colab": {
      "provenance": []
    },
    "kernelspec": {
      "name": "python3",
      "display_name": "Python 3"
    },
    "language_info": {
      "name": "python"
    }
  },
  "cells": [
    {
      "cell_type": "markdown",
      "source": [
        "# 📅 Day 5: Python Libraries – NumPy & Pandas\n",
        "\n",
        "Today we'll explore two of the most important libraries in the data analyst toolkit:\n",
        "- `NumPy`: For numerical operations and arrays\n",
        "- `Pandas`: For handling structured data like tables\n"
      ],
      "metadata": {
        "id": "why236icW9u_"
      }
    },
    {
      "cell_type": "markdown",
      "source": [
        "## 🔹 NumPy Basics\n"
      ],
      "metadata": {
        "id": "gY-ZC7MfW_xd"
      }
    },
    {
      "cell_type": "code",
      "execution_count": 1,
      "metadata": {
        "colab": {
          "base_uri": "https://localhost:8080/"
        },
        "id": "bl-9dyziW6g7",
        "outputId": "33a97f63-8806-48e1-8982-99b9133bdb31"
      },
      "outputs": [
        {
          "output_type": "stream",
          "name": "stdout",
          "text": [
            "Array: [1 2 3 4 5]\n",
            "Mean: 3.0\n",
            "Standard Deviation: 1.4142135623730951\n",
            "Sum: 15\n"
          ]
        }
      ],
      "source": [
        "import numpy as np\n",
        "\n",
        "# Create a NumPy array\n",
        "arr = np.array([1, 2, 3, 4, 5])\n",
        "print(\"Array:\", arr)\n",
        "\n",
        "# Perform operations\n",
        "print(\"Mean:\", np.mean(arr))\n",
        "print(\"Standard Deviation:\", np.std(arr))\n",
        "print(\"Sum:\", np.sum(arr))\n"
      ]
    },
    {
      "cell_type": "markdown",
      "source": [
        "## 🔹 Pandas Basics\n"
      ],
      "metadata": {
        "id": "DPsqU1ZAXCA9"
      }
    },
    {
      "cell_type": "code",
      "source": [
        "import pandas as pd\n",
        "\n",
        "# Create a DataFrame from a dictionary\n",
        "data = {\n",
        "    'Name': ['Alice', 'Bob', 'Charlie'],\n",
        "    'Age': [25, 30, 35],\n",
        "    'City': ['Pune', 'Mumbai', 'Delhi']\n",
        "}\n",
        "\n",
        "df = pd.DataFrame(data)\n",
        "\n",
        "# Display the DataFrame\n",
        "print(df)\n"
      ],
      "metadata": {
        "colab": {
          "base_uri": "https://localhost:8080/"
        },
        "id": "A3BPsS9cXDd9",
        "outputId": "3f8c8888-e0d5-4bec-da9b-86d84945b5b9"
      },
      "execution_count": 2,
      "outputs": [
        {
          "output_type": "stream",
          "name": "stdout",
          "text": [
            "      Name  Age    City\n",
            "0    Alice   25    Pune\n",
            "1      Bob   30  Mumbai\n",
            "2  Charlie   35   Delhi\n"
          ]
        }
      ]
    },
    {
      "cell_type": "markdown",
      "source": [
        "## 🔹 Basic Operations on DataFrames\n"
      ],
      "metadata": {
        "id": "SHTnV-jNXEr1"
      }
    },
    {
      "cell_type": "code",
      "source": [
        "# Access columns\n",
        "print(df['Name'])\n",
        "\n",
        "# Add a new column\n",
        "df['Experience'] = [2, 5, 3]\n",
        "print(df)\n",
        "\n",
        "# Filter rows where Age > 28\n",
        "filtered_df = df[df['Age'] > 28]\n",
        "print(\"Filtered:\\n\", filtered_df)\n"
      ],
      "metadata": {
        "colab": {
          "base_uri": "https://localhost:8080/"
        },
        "id": "ZKsFRS7fXFqt",
        "outputId": "498a19fd-7d04-4b11-842d-126c4aed4ab6"
      },
      "execution_count": 3,
      "outputs": [
        {
          "output_type": "stream",
          "name": "stdout",
          "text": [
            "0      Alice\n",
            "1        Bob\n",
            "2    Charlie\n",
            "Name: Name, dtype: object\n",
            "      Name  Age    City  Experience\n",
            "0    Alice   25    Pune           2\n",
            "1      Bob   30  Mumbai           5\n",
            "2  Charlie   35   Delhi           3\n",
            "Filtered:\n",
            "       Name  Age    City  Experience\n",
            "1      Bob   30  Mumbai           5\n",
            "2  Charlie   35   Delhi           3\n"
          ]
        }
      ]
    },
    {
      "cell_type": "markdown",
      "source": [
        "## 🧪 Practice Exercise\n",
        "Try these yourself:\n"
      ],
      "metadata": {
        "id": "u9RqT2zQXGZt"
      }
    },
    {
      "cell_type": "code",
      "source": [
        "# 1. Create a NumPy array from 1 to 10 and get its median\n",
        "arr = np.arange(1, 11)\n",
        "print(\"Array:\", arr)\n",
        "print(\"Median:\", np.median(arr))\n",
        "\n",
        "# 2. Create a Pandas DataFrame with Product, Price, and Quantity\n",
        "sales = pd.DataFrame({\n",
        "    'Product': ['Book', 'Pen', 'Notebook'],\n",
        "    'Price': [150, 20, 60],\n",
        "    'Quantity': [2, 10, 5]\n",
        "})\n",
        "\n",
        "# 3. Add a Total column = Price * Quantity\n",
        "sales['Total'] = sales['Price'] * sales['Quantity']\n",
        "print(sales)\n",
        "\n",
        "# 4. Filter products where total > 200\n",
        "high_sales = sales[sales['Total'] > 200]\n",
        "print(\"High Value Sales:\\n\", high_sales)\n"
      ],
      "metadata": {
        "colab": {
          "base_uri": "https://localhost:8080/"
        },
        "id": "ye_32lXIXHSV",
        "outputId": "a082e5fe-b4f6-4930-b8e2-10d6c6330f5f"
      },
      "execution_count": 4,
      "outputs": [
        {
          "output_type": "stream",
          "name": "stdout",
          "text": [
            "Array: [ 1  2  3  4  5  6  7  8  9 10]\n",
            "Median: 5.5\n",
            "    Product  Price  Quantity  Total\n",
            "0      Book    150         2    300\n",
            "1       Pen     20        10    200\n",
            "2  Notebook     60         5    300\n",
            "High Value Sales:\n",
            "     Product  Price  Quantity  Total\n",
            "0      Book    150         2    300\n",
            "2  Notebook     60         5    300\n"
          ]
        }
      ]
    },
    {
      "cell_type": "markdown",
      "source": [
        "## ✅ Summary\n",
        "\n",
        "- Use `NumPy` for fast array operations\n",
        "- Use `Pandas` for structured tabular data\n",
        "- Easily read, write, filter, and manipulate datasets\n",
        "\n",
        "These libraries form the **foundation** of every data analysis project!\n"
      ],
      "metadata": {
        "id": "dVZ-fQJ-XH89"
      }
    }
  ]
}