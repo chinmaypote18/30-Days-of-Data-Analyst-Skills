{
  "nbformat": 4,
  "nbformat_minor": 0,
  "metadata": {
    "colab": {
      "provenance": []
    },
    "kernelspec": {
      "name": "python3",
      "display_name": "Python 3"
    },
    "language_info": {
      "name": "python"
    }
  },
  "cells": [
    {
      "cell_type": "markdown",
      "source": [
        "# 📅 Day 3: Python Control Flow (if, for, while)\n",
        "\n",
        "Today we learn about controlling the flow of a Python program — deciding which code runs under what conditions.\n"
      ],
      "metadata": {
        "id": "i_gmglKplD5R"
      }
    },
    {
      "cell_type": "markdown",
      "source": [
        "## 🔸 if-else Statements\n",
        "Run different code blocks based on conditions.\n"
      ],
      "metadata": {
        "id": "leUBiVKglF6R"
      }
    },
    {
      "cell_type": "code",
      "execution_count": null,
      "metadata": {
        "id": "mAWmo8wnkuan"
      },
      "outputs": [],
      "source": [
        "age = 20\n",
        "\n",
        "if age >= 18:\n",
        "    print(\"You are eligible to vote!\")\n",
        "else:\n",
        "    print(\"You are not eligible to vote.\")\n"
      ]
    },
    {
      "cell_type": "markdown",
      "source": [
        "## 🔸 for Loops\n",
        "Repeat actions for a sequence (like a list).\n"
      ],
      "metadata": {
        "id": "KNHOvWGblItK"
      }
    },
    {
      "cell_type": "code",
      "source": [
        "fruits = ['apple', 'banana', 'cherry']\n",
        "\n",
        "for fruit in fruits:\n",
        "    print(f\"I like {fruit}\")\n"
      ],
      "metadata": {
        "id": "jshygAhWlJw5"
      },
      "execution_count": null,
      "outputs": []
    },
    {
      "cell_type": "markdown",
      "source": [
        "## 🔸 while Loops\n",
        "Repeat actions **while** a condition remains true.\n"
      ],
      "metadata": {
        "id": "_VYoC6S5lLVp"
      }
    },
    {
      "cell_type": "code",
      "source": [
        "count = 1\n",
        "\n",
        "while count <= 5:\n",
        "    print(f\"Count: {count}\")\n",
        "    count += 1\n"
      ],
      "metadata": {
        "id": "Uuj6KuwqlMLR"
      },
      "execution_count": null,
      "outputs": []
    },
    {
      "cell_type": "markdown",
      "source": [
        "## 🧪 Practice Exercise\n",
        "Try these tasks yourself:\n"
      ],
      "metadata": {
        "id": "JGn-mZUClNYJ"
      }
    },
    {
      "cell_type": "code",
      "source": [
        "# 1. Check if a number is positive, negative, or zero\n",
        "number = -5\n",
        "\n",
        "if number > 0:\n",
        "    print(\"Positive number\")\n",
        "elif number == 0:\n",
        "    print(\"Zero\")\n",
        "else:\n",
        "    print(\"Negative number\")\n",
        "\n",
        "# 2. Print all even numbers from 1 to 10 using a for loop\n",
        "for num in range(1, 11):\n",
        "    if num % 2 == 0:\n",
        "        print(num)\n",
        "\n",
        "# 3. Use a while loop to print numbers from 10 to 1\n",
        "n = 10\n",
        "while n >= 1:\n",
        "    print(n)\n",
        "    n -= 1\n"
      ],
      "metadata": {
        "id": "CJ3Ir8bdlOOh"
      },
      "execution_count": null,
      "outputs": []
    },
    {
      "cell_type": "markdown",
      "source": [
        "## ✅ Summary\n",
        "\n",
        "- `if`, `elif`, and `else` control decisions\n",
        "- `for` loops are used for sequences\n",
        "- `while` loops continue based on conditions\n",
        "\n",
        "Control flow is the backbone of decision-making in Python!\n"
      ],
      "metadata": {
        "id": "mfnp3zBOlPRx"
      }
    }
  ]
}