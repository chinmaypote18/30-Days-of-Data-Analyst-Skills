{
  "nbformat": 4,
  "nbformat_minor": 0,
  "metadata": {
    "colab": {
      "provenance": []
    },
    "kernelspec": {
      "name": "python3",
      "display_name": "Python 3"
    },
    "language_info": {
      "name": "python"
    }
  },
  "cells": [
    {
      "cell_type": "markdown",
      "source": [
        "# 📅 Day 4: Functions in Python\n",
        "\n",
        "Functions help you organize and reuse code efficiently. Today we'll learn how to create and use functions.\n"
      ],
      "metadata": {
        "id": "G0YIHG_yiQsR"
      }
    },
    {
      "cell_type": "markdown",
      "source": [
        "## 🔸 What is a Function?\n",
        "\n",
        "A function is a block of code that runs **only when it's called**. You can pass data into a function (parameters) and get output (return value).\n"
      ],
      "metadata": {
        "id": "cA1U1WWaiSsH"
      }
    },
    {
      "cell_type": "code",
      "execution_count": 1,
      "metadata": {
        "colab": {
          "base_uri": "https://localhost:8080/"
        },
        "id": "YR0hwOHKiO2z",
        "outputId": "043bc005-4858-411a-8f42-89371cd8bdb2"
      },
      "outputs": [
        {
          "output_type": "stream",
          "name": "stdout",
          "text": [
            "Hello, Data Analyst!\n"
          ]
        }
      ],
      "source": [
        "def greet():\n",
        "    print(\"Hello, Data Analyst!\")\n",
        "\n",
        "greet()  # Call the function\n"
      ]
    },
    {
      "cell_type": "markdown",
      "source": [
        "## 🔸 Function with Parameters\n",
        "Pass values into a function to make it dynamic.\n"
      ],
      "metadata": {
        "id": "iUf3PCAoiVl3"
      }
    },
    {
      "cell_type": "code",
      "source": [
        "def welcome(name):\n",
        "    print(f\"Welcome, {name}!\")\n",
        "\n",
        "welcome(\"Chinmay\")\n",
        "welcome(\"Alex\")\n"
      ],
      "metadata": {
        "colab": {
          "base_uri": "https://localhost:8080/"
        },
        "id": "ONjWSGQpiW93",
        "outputId": "442ebd46-e888-47d0-ab85-080ba408e596"
      },
      "execution_count": 2,
      "outputs": [
        {
          "output_type": "stream",
          "name": "stdout",
          "text": [
            "Welcome, Chinmay!\n",
            "Welcome, Alex!\n"
          ]
        }
      ]
    },
    {
      "cell_type": "markdown",
      "source": [
        "## 🔸 Function with Return Value\n",
        "Functions can return data you can store or use later.\n"
      ],
      "metadata": {
        "id": "ad0JVuTgiX7f"
      }
    },
    {
      "cell_type": "code",
      "source": [
        "def add_numbers(a, b):\n",
        "    return a + b\n",
        "\n",
        "result = add_numbers(10, 5)\n",
        "print(\"Sum:\", result)\n"
      ],
      "metadata": {
        "colab": {
          "base_uri": "https://localhost:8080/"
        },
        "id": "7FAUqBu7iYvH",
        "outputId": "d291d9b0-a86d-4ee5-c229-9fc95faeea9d"
      },
      "execution_count": 3,
      "outputs": [
        {
          "output_type": "stream",
          "name": "stdout",
          "text": [
            "Sum: 15\n"
          ]
        }
      ]
    },
    {
      "cell_type": "markdown",
      "source": [
        "## 🔸 Default Parameters\n",
        "Let parameters have default values if not passed.\n"
      ],
      "metadata": {
        "id": "auRzQXjPiZg2"
      }
    },
    {
      "cell_type": "code",
      "source": [
        "def greet_user(name=\"Data Scientist\"):\n",
        "    print(f\"Hello, {name}!\")\n",
        "\n",
        "greet_user()\n",
        "greet_user(\"Chinmay\")\n"
      ],
      "metadata": {
        "colab": {
          "base_uri": "https://localhost:8080/"
        },
        "id": "EFF2MIGjiaQP",
        "outputId": "8b76186d-c8c2-4572-c1b9-126814d45481"
      },
      "execution_count": 4,
      "outputs": [
        {
          "output_type": "stream",
          "name": "stdout",
          "text": [
            "Hello, Data Scientist!\n",
            "Hello, Chinmay!\n"
          ]
        }
      ]
    },
    {
      "cell_type": "markdown",
      "source": [
        "## 🧪 Practice Exercise\n",
        "Try these on your own:\n"
      ],
      "metadata": {
        "id": "CWrmZGWFicIg"
      }
    },
    {
      "cell_type": "code",
      "source": [
        "# 1. Write a function that returns the square of a number\n",
        "def square(n):\n",
        "    return n ** 2\n",
        "\n",
        "print(square(4))\n",
        "\n",
        "# 2. Write a function that checks if a number is even\n",
        "def is_even(num):\n",
        "    return num % 2 == 0\n",
        "\n",
        "print(is_even(10))\n",
        "print(is_even(7))\n",
        "\n",
        "# 3. Write a function that greets a user with a custom message\n",
        "def custom_greet(name, msg=\"Welcome to Python!\"):\n",
        "    print(f\"{msg} {name}\")\n",
        "\n",
        "custom_greet(\"Chinmay\")\n",
        "custom_greet(\"Alex\", \"Good to see you,\")\n"
      ],
      "metadata": {
        "colab": {
          "base_uri": "https://localhost:8080/"
        },
        "id": "tKWC1O0NidBP",
        "outputId": "04006789-da61-4e31-a72a-7fa5464afd23"
      },
      "execution_count": 5,
      "outputs": [
        {
          "output_type": "stream",
          "name": "stdout",
          "text": [
            "16\n",
            "True\n",
            "False\n",
            "Welcome to Python! Chinmay\n",
            "Good to see you, Alex\n"
          ]
        }
      ]
    },
    {
      "cell_type": "markdown",
      "source": [
        "## ✅ Summary\n",
        "\n",
        "- Use `def` to define a function  \n",
        "- Functions can have parameters and return values  \n",
        "- Use default parameters for flexibility  \n",
        "- Functions make your code reusable and clean\n",
        "\n",
        "Functions are the foundation of **modular** and **scalable** code!\n"
      ],
      "metadata": {
        "id": "ZO2b8xa3ieBP"
      }
    }
  ]
}