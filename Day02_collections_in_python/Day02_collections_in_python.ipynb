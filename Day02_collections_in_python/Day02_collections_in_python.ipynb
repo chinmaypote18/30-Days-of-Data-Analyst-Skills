{
  "nbformat": 4,
  "nbformat_minor": 0,
  "metadata": {
    "colab": {
      "provenance": []
    },
    "kernelspec": {
      "name": "python3",
      "display_name": "Python 3"
    },
    "language_info": {
      "name": "python"
    }
  },
  "cells": [
    {
      "cell_type": "markdown",
      "source": [
        "# 📅 Day 2: Lists, Tuples, Dictionaries & Sets\n",
        "\n",
        "Today we explore Python’s built-in collection data types — essential for any data analysis work.\n"
      ],
      "metadata": {
        "id": "hztCuY19y4jl"
      }
    },
    {
      "cell_type": "markdown",
      "source": [
        "## 🔸 Lists\n",
        "Ordered and mutable sequences.\n"
      ],
      "metadata": {
        "id": "h_lsmY6zy7Mt"
      }
    },
    {
      "cell_type": "code",
      "execution_count": 1,
      "metadata": {
        "colab": {
          "base_uri": "https://localhost:8080/"
        },
        "id": "-xzxSkXKy2B-",
        "outputId": "e9ad6319-47f8-4ffe-a934-f68e88c708d7"
      },
      "outputs": [
        {
          "output_type": "stream",
          "name": "stdout",
          "text": [
            "['apple', 'banana', 'cherry', 'mango']\n",
            "apple\n"
          ]
        }
      ],
      "source": [
        "fruits = ['apple', 'banana', 'cherry']\n",
        "fruits.append('mango')\n",
        "print(fruits)\n",
        "print(fruits[0])  # Access first item\n"
      ]
    },
    {
      "cell_type": "markdown",
      "source": [
        "## 🔸 Tuples\n",
        "Ordered and immutable sequences.\n"
      ],
      "metadata": {
        "id": "UKoeKdN-y-kV"
      }
    },
    {
      "cell_type": "code",
      "source": [
        "dimensions = (1920, 1080)\n",
        "print(dimensions[1])  # Access second item\n"
      ],
      "metadata": {
        "colab": {
          "base_uri": "https://localhost:8080/"
        },
        "id": "Co3f5mkGzAEd",
        "outputId": "68ea2e0c-09d9-4f9d-a5de-f4cee1b03d9b"
      },
      "execution_count": 2,
      "outputs": [
        {
          "output_type": "stream",
          "name": "stdout",
          "text": [
            "1080\n"
          ]
        }
      ]
    },
    {
      "cell_type": "markdown",
      "source": [
        "## 🔸 Dictionaries\n",
        "Key-value pairs, like a mini-database.\n"
      ],
      "metadata": {
        "id": "Vj54OGDyzBxN"
      }
    },
    {
      "cell_type": "code",
      "source": [
        "person = {'name': 'Chinmay', 'age': 25}\n",
        "print(person['name'])\n",
        "person['city'] = 'Pune'\n",
        "print(person)\n"
      ],
      "metadata": {
        "colab": {
          "base_uri": "https://localhost:8080/"
        },
        "id": "mtrwMC1HzChc",
        "outputId": "0772e9eb-935f-4496-9476-c7968f80d088"
      },
      "execution_count": 3,
      "outputs": [
        {
          "output_type": "stream",
          "name": "stdout",
          "text": [
            "Chinmay\n",
            "{'name': 'Chinmay', 'age': 25, 'city': 'Pune'}\n"
          ]
        }
      ]
    },
    {
      "cell_type": "markdown",
      "source": [
        "## 🔸 Sets\n",
        "Unordered collection with no duplicate items.\n"
      ],
      "metadata": {
        "id": "5ymFupi9zD11"
      }
    },
    {
      "cell_type": "code",
      "source": [
        "skills = {'Python', 'SQL', 'Excel', 'SQL'}\n",
        "skills.add('Power BI')\n",
        "print(skills)  # Notice duplicates are removed\n"
      ],
      "metadata": {
        "colab": {
          "base_uri": "https://localhost:8080/"
        },
        "id": "BbeKG4R-zFTV",
        "outputId": "b3fd6ac5-dd94-4400-f794-804955ed1e1d"
      },
      "execution_count": 4,
      "outputs": [
        {
          "output_type": "stream",
          "name": "stdout",
          "text": [
            "{'SQL', 'Excel', 'Power BI', 'Python'}\n"
          ]
        }
      ]
    },
    {
      "cell_type": "markdown",
      "source": [
        "## 🧪 Practice Exercise\n",
        "Try this on your own:\n"
      ],
      "metadata": {
        "id": "NnFsBqkqzHSF"
      }
    },
    {
      "cell_type": "code",
      "source": [
        "# 1. Create a list of 3 favorite movies and add 1 more\n",
        "movies = ['Inception', 'Interstellar', 'The Matrix']\n",
        "movies.append('The Dark Knight')\n",
        "print(movies)\n",
        "\n",
        "# 2. Create a tuple of 3 programming languages\n",
        "languages = ('Python', 'Java', 'SQL')\n",
        "print(languages)\n",
        "\n",
        "# 3. Create and update a dictionary\n",
        "profile = {'name': 'Chinmay', 'age': 25, 'city': 'Pune'}\n",
        "profile['language'] = 'Python'\n",
        "print(profile)\n",
        "\n",
        "# 4. Create a set of 5 unique skills\n",
        "my_skills = {'Python', 'SQL', 'Excel', 'Power BI', 'Communication'}\n",
        "print(my_skills)\n"
      ],
      "metadata": {
        "colab": {
          "base_uri": "https://localhost:8080/"
        },
        "id": "z0w9O0jBzH6N",
        "outputId": "d2bbaae5-9a34-4d2b-b67b-b80d9786bb8a"
      },
      "execution_count": 5,
      "outputs": [
        {
          "output_type": "stream",
          "name": "stdout",
          "text": [
            "['Inception', 'Interstellar', 'The Matrix', 'The Dark Knight']\n",
            "('Python', 'Java', 'SQL')\n",
            "{'name': 'Chinmay', 'age': 25, 'city': 'Pune', 'language': 'Python'}\n",
            "{'Excel', 'SQL', 'Power BI', 'Python', 'Communication'}\n"
          ]
        }
      ]
    },
    {
      "cell_type": "markdown",
      "source": [
        "## ✅ Summary\n",
        "- Use `list` for ordered, changeable collections  \n",
        "- Use `tuple` for ordered, unchangeable sequences  \n",
        "- Use `dict` for key-value storage  \n",
        "- Use `set` for unordered, unique items  \n",
        "\n",
        "Practice these well — you'll use them all the time as a data analyst!\n"
      ],
      "metadata": {
        "id": "pP8MOa0kzJHt"
      }
    }
  ]
}