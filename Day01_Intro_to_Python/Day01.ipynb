{
  "nbformat": 4,
  "nbformat_minor": 0,
  "metadata": {
    "colab": {
      "provenance": []
    },
    "kernelspec": {
      "name": "python3",
      "display_name": "Python 3"
    },
    "language_info": {
      "name": "python"
    }
  },
  "cells": [
    {
      "cell_type": "markdown",
      "source": [
        "# 📅 **Day 1**: Intro to Python for Data Analysis\n",
        "# Welcome to Day 1 of the 30 Days of Data Analyst series!\n",
        "# Today’s focus is on Python basics – variables and data types."
      ],
      "metadata": {
        "id": "QzXSY8E_AQfI"
      }
    },
    {
      "cell_type": "markdown",
      "source": [
        "🔹 Variables & Assignment"
      ],
      "metadata": {
        "id": "eG6VIwGOAhRe"
      }
    },
    {
      "cell_type": "code",
      "execution_count": 2,
      "metadata": {
        "colab": {
          "base_uri": "https://localhost:8080/"
        },
        "id": "KFt-ApSe_4y3",
        "outputId": "6ad1cab2-5dc2-4a4a-ff35-d56cfaf53cb9"
      },
      "outputs": [
        {
          "output_type": "stream",
          "name": "stdout",
          "text": [
            "Chinmay 25 5.9 True\n"
          ]
        }
      ],
      "source": [
        "Name = 'Chinmay'\n",
        "age = 25\n",
        "height = 5.9\n",
        "is_data_analyst = True\n",
        "\n",
        "print(name, age, height, is_data_analyst)"
      ]
    },
    {
      "cell_type": "markdown",
      "source": [
        "🔹 Data Types"
      ],
      "metadata": {
        "id": "kbj43FyjAaCu"
      }
    },
    {
      "cell_type": "code",
      "source": [
        "print(type(name))        # str\n",
        "print(type(age))         # int\n",
        "print(type(height))      # float\n",
        "print(type(is_data_analyst))  # bool"
      ],
      "metadata": {
        "colab": {
          "base_uri": "https://localhost:8080/"
        },
        "id": "1hCEZ5iQAXDW",
        "outputId": "b9bc2438-08dd-49dc-cab7-6631aef25e8c"
      },
      "execution_count": 3,
      "outputs": [
        {
          "output_type": "stream",
          "name": "stdout",
          "text": [
            "<class 'str'>\n",
            "<class 'int'>\n",
            "<class 'float'>\n",
            "<class 'bool'>\n"
          ]
        }
      ]
    },
    {
      "cell_type": "markdown",
      "source": [
        "🔹 Type Casting"
      ],
      "metadata": {
        "id": "8FrWwhCoAnJe"
      }
    },
    {
      "cell_type": "code",
      "source": [
        "age_str = str(age)\n",
        "height_int = int(height)\n",
        "\n",
        "print(age_str, type(age_str))\n",
        "print(height_int, type(height_int))"
      ],
      "metadata": {
        "id": "3a3b9Rn7Aj9v"
      },
      "execution_count": null,
      "outputs": []
    },
    {
      "cell_type": "markdown",
      "source": [
        "🧪 Exercise (Try it Yourself!)"
      ],
      "metadata": {
        "id": "BY_puam5ApvV"
      }
    },
    {
      "cell_type": "code",
      "source": [
        "# Create 3 variables: your favorite color, lucky number, and whether you enjoy coding.\n",
        "# Print their types and convert one of them to another type.\n",
        "\n",
        "color = 'blue'\n",
        "lucky_number = 7\n",
        "enjoys_coding = True\n",
        "\n",
        "print(type(color))\n",
        "print(type(lucky_number))\n",
        "print(type(enjoys_coding))\n",
        "\n",
        "# Casting example\n",
        "lucky_number_str = str(lucky_number)\n",
        "print(lucky_number_str, type(lucky_number_str))"
      ],
      "metadata": {
        "id": "eWe8X2y3AsHd"
      },
      "execution_count": null,
      "outputs": []
    },
    {
      "cell_type": "markdown",
      "source": [
        "✅ Summary"
      ],
      "metadata": {
        "id": "B98mBpG1AvU_"
      }
    },
    {
      "cell_type": "markdown",
      "source": [
        "- Python supports various basic data types: int, float, str, bool\n",
        "- Use `type()` to inspect variable types\n",
        "- Use casting functions like `str()`, `int()`, `float()` to convert between types\n",
        "- Python is dynamically typed – you don’t need to declare types explicitly\n"
      ],
      "metadata": {
        "id": "OhE35cjkA0ge"
      }
    }
  ]
}
